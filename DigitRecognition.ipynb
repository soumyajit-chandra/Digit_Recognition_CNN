{
  "nbformat": 4,
  "nbformat_minor": 0,
  "metadata": {
    "colab": {
      "provenance": []
    },
    "kernelspec": {
      "name": "python3",
      "display_name": "Python 3"
    },
    "language_info": {
      "name": "python"
    }
  },
  "cells": [
    {
      "cell_type": "code",
      "execution_count": null,
      "metadata": {
        "id": "GWUBb2hGHFv0"
      },
      "outputs": [],
      "source": [
        "import tensorflow as tf\n",
        "from tensorflow import keras\n",
        "from keras.datasets import mnist\n",
        "from keras.layers import Dense, Flatten, Conv2D, AveragePooling2D\n",
        "from keras.models import Sequential"
      ]
    },
    {
      "cell_type": "code",
      "source": [
        "(x_train, y_train), (x_test, y_test) = mnist.load_data()"
      ],
      "metadata": {
        "colab": {
          "base_uri": "https://localhost:8080/"
        },
        "id": "t2FcUHqoHKwe",
        "outputId": "fd8b83f3-9dcd-4bba-eb74-0cfdff00755b"
      },
      "execution_count": null,
      "outputs": [
        {
          "output_type": "stream",
          "name": "stdout",
          "text": [
            "Downloading data from https://storage.googleapis.com/tensorflow/tf-keras-datasets/mnist.npz\n",
            "11490434/11490434 [==============================] - 0s 0us/step\n"
          ]
        }
      ]
    },
    {
      "cell_type": "code",
      "source": [
        "x_train = x_train.reshape(x_train.shape[0], 28,28, 1)\n",
        "x_test = x_test.reshape(x_test.shape[0],28,28, 1)"
      ],
      "metadata": {
        "id": "e0a9nnQDHKzO"
      },
      "execution_count": null,
      "outputs": []
    },
    {
      "cell_type": "code",
      "source": [
        "x_train = x_train / 255\n",
        "x_test = x_test / 255 #min max 0-1"
      ],
      "metadata": {
        "id": "hnxJ6DhkHK10"
      },
      "execution_count": null,
      "outputs": []
    },
    {
      "cell_type": "code",
      "source": [
        "y_train = keras.utils.to_categorical(y_train, 10)\n",
        "y_test = keras.utils.to_categorical(y_test, 10)"
      ],
      "metadata": {
        "id": "Lq-49lNJHK4c"
      },
      "execution_count": null,
      "outputs": []
    },
    {
      "cell_type": "code",
      "source": [
        "model = Sequential()\n",
        "\n",
        "model.add(Conv2D(6, kernel_size = (5,5), padding = 'valid', activation='tanh', input_shape = (28,28,1)))\n",
        "model.add(AveragePooling2D(pool_size= (2,2), strides = 2, padding = 'valid'))\n",
        "\n",
        "model.add(Conv2D(16, kernel_size = (5,5), padding = 'valid', activation='tanh'))\n",
        "model.add(AveragePooling2D(pool_size= (2,2), strides = 2, padding = 'valid'))\n",
        "\n",
        "model.add(Flatten())\n",
        "\n",
        "model.add(Dense(120, activation='tanh'))\n",
        "model.add(Dense(84, activation='tanh'))\n",
        "model.add(Dense(10, activation='softmax'))\n",
        "\n",
        "model.summary()"
      ],
      "metadata": {
        "colab": {
          "base_uri": "https://localhost:8080/"
        },
        "id": "bZTMFcCiHK6_",
        "outputId": "ca0e40c6-1ff9-45dc-e4cb-a2579131618c"
      },
      "execution_count": null,
      "outputs": [
        {
          "output_type": "stream",
          "name": "stdout",
          "text": [
            "Model: \"sequential\"\n",
            "_________________________________________________________________\n",
            " Layer (type)                Output Shape              Param #   \n",
            "=================================================================\n",
            " conv2d (Conv2D)             (None, 24, 24, 6)         156       \n",
            "                                                                 \n",
            " average_pooling2d (AverageP  (None, 12, 12, 6)        0         \n",
            " ooling2D)                                                       \n",
            "                                                                 \n",
            " conv2d_1 (Conv2D)           (None, 8, 8, 16)          2416      \n",
            "                                                                 \n",
            " average_pooling2d_1 (Averag  (None, 4, 4, 16)         0         \n",
            " ePooling2D)                                                     \n",
            "                                                                 \n",
            " flatten (Flatten)           (None, 256)               0         \n",
            "                                                                 \n",
            " dense (Dense)               (None, 120)               30840     \n",
            "                                                                 \n",
            " dense_1 (Dense)             (None, 84)                10164     \n",
            "                                                                 \n",
            " dense_2 (Dense)             (None, 10)                850       \n",
            "                                                                 \n",
            "=================================================================\n",
            "Total params: 44,426\n",
            "Trainable params: 44,426\n",
            "Non-trainable params: 0\n",
            "_________________________________________________________________\n"
          ]
        }
      ]
    },
    {
      "cell_type": "code",
      "source": [
        "model.compile(loss = keras.metrics.categorical_crossentropy, optimizer = keras.optimizers.Adam(), metrics = ['accuracy'])"
      ],
      "metadata": {
        "id": "YJkRxmkjHK9d"
      },
      "execution_count": null,
      "outputs": []
    },
    {
      "cell_type": "code",
      "source": [
        "model.fit(x_train, y_train, batch_size = 128, epochs=15 , verbose= 1, validation_data = (x_test, y_test))"
      ],
      "metadata": {
        "colab": {
          "base_uri": "https://localhost:8080/"
        },
        "id": "BgjpiSbSHLAF",
        "outputId": "19b2b4c1-5cf1-4ea7-be83-ef29c4ce64bb"
      },
      "execution_count": null,
      "outputs": [
        {
          "output_type": "stream",
          "name": "stdout",
          "text": [
            "Epoch 1/15\n",
            "469/469 [==============================] - 29s 61ms/step - loss: 0.3503 - accuracy: 0.8999 - val_loss: 0.1551 - val_accuracy: 0.9535\n",
            "Epoch 2/15\n",
            "469/469 [==============================] - 29s 62ms/step - loss: 0.1259 - accuracy: 0.9616 - val_loss: 0.0911 - val_accuracy: 0.9732\n",
            "Epoch 3/15\n",
            "469/469 [==============================] - 27s 57ms/step - loss: 0.0851 - accuracy: 0.9738 - val_loss: 0.0761 - val_accuracy: 0.9773\n",
            "Epoch 4/15\n",
            "469/469 [==============================] - 26s 56ms/step - loss: 0.0628 - accuracy: 0.9811 - val_loss: 0.0626 - val_accuracy: 0.9807\n",
            "Epoch 5/15\n",
            "469/469 [==============================] - 26s 56ms/step - loss: 0.0506 - accuracy: 0.9845 - val_loss: 0.0535 - val_accuracy: 0.9824\n",
            "Epoch 6/15\n",
            "469/469 [==============================] - 27s 57ms/step - loss: 0.0431 - accuracy: 0.9866 - val_loss: 0.0543 - val_accuracy: 0.9827\n",
            "Epoch 7/15\n",
            "469/469 [==============================] - 26s 56ms/step - loss: 0.0355 - accuracy: 0.9893 - val_loss: 0.0511 - val_accuracy: 0.9831\n",
            "Epoch 8/15\n",
            "469/469 [==============================] - 27s 57ms/step - loss: 0.0302 - accuracy: 0.9908 - val_loss: 0.0450 - val_accuracy: 0.9853\n",
            "Epoch 9/15\n",
            "469/469 [==============================] - 27s 57ms/step - loss: 0.0257 - accuracy: 0.9919 - val_loss: 0.0518 - val_accuracy: 0.9831\n",
            "Epoch 10/15\n",
            "469/469 [==============================] - 28s 59ms/step - loss: 0.0228 - accuracy: 0.9926 - val_loss: 0.0439 - val_accuracy: 0.9865\n",
            "Epoch 11/15\n",
            "469/469 [==============================] - 27s 57ms/step - loss: 0.0193 - accuracy: 0.9941 - val_loss: 0.0429 - val_accuracy: 0.9865\n",
            "Epoch 12/15\n",
            "469/469 [==============================] - 26s 56ms/step - loss: 0.0178 - accuracy: 0.9944 - val_loss: 0.0441 - val_accuracy: 0.9862\n",
            "Epoch 13/15\n",
            "469/469 [==============================] - 29s 62ms/step - loss: 0.0144 - accuracy: 0.9959 - val_loss: 0.0447 - val_accuracy: 0.9869\n",
            "Epoch 14/15\n",
            "469/469 [==============================] - 26s 56ms/step - loss: 0.0122 - accuracy: 0.9961 - val_loss: 0.0503 - val_accuracy: 0.9836\n",
            "Epoch 15/15\n",
            "469/469 [==============================] - 26s 56ms/step - loss: 0.0109 - accuracy: 0.9968 - val_loss: 0.0449 - val_accuracy: 0.9861\n"
          ]
        },
        {
          "output_type": "execute_result",
          "data": {
            "text/plain": [
              "<keras.callbacks.History at 0x7fed2905ea50>"
            ]
          },
          "metadata": {},
          "execution_count": 8
        }
      ]
    },
    {
      "cell_type": "code",
      "source": [
        "model.save(\"full_mnist_model.h5\")"
      ],
      "metadata": {
        "id": "AFNiLmCcHqBW"
      },
      "execution_count": null,
      "outputs": []
    }
  ]
}